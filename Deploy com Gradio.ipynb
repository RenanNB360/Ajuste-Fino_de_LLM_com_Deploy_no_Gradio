{
 "cells": [
  {
   "cell_type": "markdown",
   "id": "a1eda042-90ec-4f97-ad80-b51f757a37ad",
   "metadata": {},
   "source": [
    "# Carregando os Pacotes"
   ]
  },
  {
   "cell_type": "code",
   "execution_count": 1,
   "id": "b761b290-3a6d-4319-a69c-fa7fa49fa784",
   "metadata": {},
   "outputs": [
    {
     "name": "stdout",
     "output_type": "stream",
     "text": [
      "env: TF_CPP_MIN_LOG_LEVEL=3\n"
     ]
    }
   ],
   "source": [
    "%env TF_CPP_MIN_LOG_LEVEL = 3"
   ]
  },
  {
   "cell_type": "code",
   "execution_count": 2,
   "id": "47fb8382-595f-4b7c-aee6-c5e60aaf99f2",
   "metadata": {},
   "outputs": [
    {
     "name": "stderr",
     "output_type": "stream",
     "text": [
      "/home/renan/anaconda3/envs/nlp/lib/python3.12/site-packages/tqdm/auto.py:21: TqdmWarning: IProgress not found. Please update jupyter and ipywidgets. See https://ipywidgets.readthedocs.io/en/stable/user_install.html\n",
      "  from .autonotebook import tqdm as notebook_tqdm\n"
     ]
    }
   ],
   "source": [
    "import torch\n",
    "import gradio as gr\n",
    "from transformers import AutoModelForCausalLM\n",
    "import warnings\n",
    "warnings.filterwarnings('ignore')"
   ]
  },
  {
   "cell_type": "markdown",
   "id": "f5508a37-8c9d-4413-8fec-0e1cbdd04e2b",
   "metadata": {},
   "source": [
    "# Carregando o LLM Treinado"
   ]
  },
  {
   "cell_type": "code",
   "execution_count": 3,
   "id": "9ab14bdb-ca99-4854-a310-8ffe8de0bb6e",
   "metadata": {},
   "outputs": [],
   "source": [
    "modelo_llm = AutoModelForCausalLM.from_pretrained('llm/llm_final/')"
   ]
  },
  {
   "cell_type": "code",
   "execution_count": 4,
   "id": "e8260e91-6260-40fb-bc17-54d19431ddef",
   "metadata": {},
   "outputs": [
    {
     "data": {
      "text/plain": [
       "GPT2LMHeadModel(\n",
       "  (transformer): GPT2Model(\n",
       "    (wte): Embedding(13, 768)\n",
       "    (wpe): Embedding(1024, 768)\n",
       "    (drop): Dropout(p=0.1, inplace=False)\n",
       "    (h): ModuleList(\n",
       "      (0-1): 2 x GPT2Block(\n",
       "        (ln_1): LayerNorm((768,), eps=1e-05, elementwise_affine=True)\n",
       "        (attn): GPT2SdpaAttention(\n",
       "          (c_attn): Conv1D(nf=2304, nx=768)\n",
       "          (c_proj): Conv1D(nf=768, nx=768)\n",
       "          (attn_dropout): Dropout(p=0.1, inplace=False)\n",
       "          (resid_dropout): Dropout(p=0.1, inplace=False)\n",
       "        )\n",
       "        (ln_2): LayerNorm((768,), eps=1e-05, elementwise_affine=True)\n",
       "        (mlp): GPT2MLP(\n",
       "          (c_fc): Conv1D(nf=3072, nx=768)\n",
       "          (c_proj): Conv1D(nf=768, nx=3072)\n",
       "          (act): NewGELUActivation()\n",
       "          (dropout): Dropout(p=0.1, inplace=False)\n",
       "        )\n",
       "      )\n",
       "    )\n",
       "    (ln_f): LayerNorm((768,), eps=1e-05, elementwise_affine=True)\n",
       "  )\n",
       "  (lm_head): Linear(in_features=768, out_features=13, bias=False)\n",
       ")"
      ]
     },
     "execution_count": 4,
     "metadata": {},
     "output_type": "execute_result"
    }
   ],
   "source": [
    "modelo_llm"
   ]
  },
  {
   "cell_type": "markdown",
   "id": "9b767c1a-58cd-484d-bcaa-77068b80e069",
   "metadata": {},
   "source": [
    "# Carregando o Tokenizador"
   ]
  },
  {
   "cell_type": "code",
   "execution_count": 19,
   "id": "cd291576-f35c-4d33-b949-471922b10f78",
   "metadata": {},
   "outputs": [],
   "source": [
    "class Tokenizador:\n",
    "\n",
    "    def __init__(self, numbers_qty = 10):\n",
    "\n",
    "        vocab = ['+', '=', '-1', '0', '1', '2', '3', '4', '5', '6', '7', '8', '9']\n",
    "        self.numbers_qty = numbers_qty\n",
    "        self.pad_token = '-1'\n",
    "        self.encoder = {str(v):i for i, v in enumerate(vocab)}\n",
    "        self.decoder = {i:str(v) for i, v in enumerate(vocab)}\n",
    "        self.pad_token_id = self.encoder[self.pad_token]\n",
    "\n",
    "    def decode(self, token_ids):\n",
    "        return ' '.join(self.decoder[t] for t in token_ids)\n",
    "\n",
    "    def __call__(self, text):\n",
    "        return [self.encoder[t] for t in text.split()]"
   ]
  },
  {
   "cell_type": "code",
   "execution_count": 20,
   "id": "04a97126-e59f-490f-b701-74e825a5f744",
   "metadata": {},
   "outputs": [],
   "source": [
    "tokenizador = Tokenizador(13)"
   ]
  },
  {
   "cell_type": "code",
   "execution_count": 21,
   "id": "8fa59045-8234-49b4-8cbb-6c4b6a56b4ca",
   "metadata": {},
   "outputs": [
    {
     "data": {
      "text/plain": [
       "{'+': 0,\n",
       " '=': 1,\n",
       " '-1': 2,\n",
       " '0': 3,\n",
       " '1': 4,\n",
       " '2': 5,\n",
       " '3': 6,\n",
       " '4': 7,\n",
       " '5': 8,\n",
       " '6': 9,\n",
       " '7': 10,\n",
       " '8': 11,\n",
       " '9': 12}"
      ]
     },
     "execution_count": 21,
     "metadata": {},
     "output_type": "execute_result"
    }
   ],
   "source": [
    "tokenizador.encoder"
   ]
  },
  {
   "cell_type": "code",
   "execution_count": 22,
   "id": "3760da94-2dc6-45ab-8e65-f841da4a82d2",
   "metadata": {},
   "outputs": [
    {
     "data": {
      "text/plain": [
       "{0: '+',\n",
       " 1: '=',\n",
       " 2: '-1',\n",
       " 3: '0',\n",
       " 4: '1',\n",
       " 5: '2',\n",
       " 6: '3',\n",
       " 7: '4',\n",
       " 8: '5',\n",
       " 9: '6',\n",
       " 10: '7',\n",
       " 11: '8',\n",
       " 12: '9'}"
      ]
     },
     "execution_count": 22,
     "metadata": {},
     "output_type": "execute_result"
    }
   ],
   "source": [
    "tokenizador.decoder"
   ]
  },
  {
   "cell_type": "markdown",
   "id": "0d2a24f1-ebb3-481a-b571-2f2bd7897a85",
   "metadata": {},
   "source": [
    "# Criando Função Para Previsões com o LLM"
   ]
  },
  {
   "cell_type": "code",
   "execution_count": 25,
   "id": "0db1ad61-fbff-488c-9e82-52dbd838b8eb",
   "metadata": {},
   "outputs": [],
   "source": [
    "def faz_previsao(entrada, solution_length = 6, model = modelo_llm):\n",
    "\n",
    "    model.eval()\n",
    "    entrada = torch.tensor(tokenizador(entrada))\n",
    "    solution = []\n",
    "\n",
    "    for i in range(solution_length):\n",
    "        saida = model(entrada)\n",
    "        predicted = saida.logits[-1].argmax()\n",
    "        entrada = torch.cat((entrada, predicted.unsqueeze(0)), dim = 0)\n",
    "        solution.append(predicted.cpu().item())\n",
    "\n",
    "    return tokenizador.decode(solution)"
   ]
  },
  {
   "cell_type": "markdown",
   "id": "afc7222e-28f6-4c53-ae66-5ecc8f9ae70e",
   "metadata": {},
   "source": [
    "# Testando o LLM"
   ]
  },
  {
   "cell_type": "code",
   "execution_count": 26,
   "id": "32882a2d-9946-4992-85de-0db31fbefaa4",
   "metadata": {},
   "outputs": [
    {
     "data": {
      "text/plain": [
       "'0 8'"
      ]
     },
     "execution_count": 26,
     "metadata": {},
     "output_type": "execute_result"
    }
   ],
   "source": [
    "faz_previsao('3 + 5 ', solution_length=2)"
   ]
  },
  {
   "cell_type": "code",
   "execution_count": 27,
   "id": "208eb991-1856-451b-87f2-eca33451107d",
   "metadata": {},
   "outputs": [
    {
     "data": {
      "text/plain": [
       "'0 8'"
      ]
     },
     "execution_count": 27,
     "metadata": {},
     "output_type": "execute_result"
    }
   ],
   "source": [
    "faz_previsao('3 + 5 =', solution_length= 2)"
   ]
  },
  {
   "cell_type": "code",
   "execution_count": 28,
   "id": "ba2ec63c-9506-461b-9ef0-94a008cbc0e4",
   "metadata": {},
   "outputs": [
    {
     "data": {
      "text/plain": [
       "'0 9'"
      ]
     },
     "execution_count": 28,
     "metadata": {},
     "output_type": "execute_result"
    }
   ],
   "source": [
    "faz_previsao('8 + 1 =', solution_length=2)"
   ]
  },
  {
   "cell_type": "markdown",
   "id": "5c973124-2ff5-46ed-86d7-3e36a116a1b2",
   "metadata": {},
   "source": [
    "# Web App Para Deploy do LLM"
   ]
  },
  {
   "cell_type": "code",
   "execution_count": 29,
   "id": "61885144-30c8-44b8-9be4-b0fd2171a15e",
   "metadata": {},
   "outputs": [],
   "source": [
    "def retorna_previsao(entrada):\n",
    "    return faz_previsao(entrada, solution_length=2)"
   ]
  },
  {
   "cell_type": "code",
   "execution_count": 30,
   "id": "df8be284-f047-4fb4-bef7-69b5110a5e6e",
   "metadata": {},
   "outputs": [],
   "source": [
    "webapp = gr.Interface(fn = retorna_previsao,\n",
    "                      inputs = [gr.Textbox(label= 'Dados de Entrada',\n",
    "                                           lines = 1,\n",
    "                                           info = \"Os dados devem estar na forma: '1 + 2 =' com um único espaço entre cada caractere e apenas números de um dígito são permitidos.\")],\n",
    "                      outputs = [gr.Textbox(label= 'Resultado (Previsãao do Modelo)', lines = 1)],\n",
    "                      title = 'Deploy do LLM',\n",
    "                      description = 'Digite os dados de entrada e clique no botão Submit para o modelo fazer a previsão.',\n",
    "                      examples = ['5 + 3 =', '2 + 9 ='])"
   ]
  },
  {
   "cell_type": "code",
   "execution_count": 31,
   "id": "bf110ec8-5161-423b-98d3-952bb1a7c37e",
   "metadata": {},
   "outputs": [
    {
     "name": "stdout",
     "output_type": "stream",
     "text": [
      "* Running on local URL:  http://127.0.0.1:7860\n",
      "* Running on public URL: https://7b394b34b75abf8590.gradio.live\n",
      "\n",
      "This share link expires in 72 hours. For free permanent hosting and GPU upgrades, run `gradio deploy` from the terminal in the working directory to deploy to Hugging Face Spaces (https://huggingface.co/spaces)\n"
     ]
    },
    {
     "data": {
      "text/html": [
       "<div><iframe src=\"https://7b394b34b75abf8590.gradio.live\" width=\"100%\" height=\"500\" allow=\"autoplay; camera; microphone; clipboard-read; clipboard-write;\" frameborder=\"0\" allowfullscreen></iframe></div>"
      ],
      "text/plain": [
       "<IPython.core.display.HTML object>"
      ]
     },
     "metadata": {},
     "output_type": "display_data"
    },
    {
     "data": {
      "text/plain": []
     },
     "execution_count": 31,
     "metadata": {},
     "output_type": "execute_result"
    }
   ],
   "source": [
    "webapp.launch(share= True)"
   ]
  }
 ],
 "metadata": {
  "kernelspec": {
   "display_name": "Python 3 (ipykernel)",
   "language": "python",
   "name": "python3"
  },
  "language_info": {
   "codemirror_mode": {
    "name": "ipython",
    "version": 3
   },
   "file_extension": ".py",
   "mimetype": "text/x-python",
   "name": "python",
   "nbconvert_exporter": "python",
   "pygments_lexer": "ipython3",
   "version": "3.12.8"
  }
 },
 "nbformat": 4,
 "nbformat_minor": 5
}
